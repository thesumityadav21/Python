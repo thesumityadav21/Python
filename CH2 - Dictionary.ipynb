{
 "cells": [
  {
   "cell_type": "markdown",
   "id": "3b78e2ed",
   "metadata": {},
   "source": [
    "### Different ways to create a python dictionary"
   ]
  },
  {
   "cell_type": "code",
   "execution_count": 32,
   "id": "4f0e3b11",
   "metadata": {},
   "outputs": [
    {
     "name": "stdout",
     "output_type": "stream",
     "text": [
      "Empty Dictionary:\n",
      "{}\n",
      "\n",
      " Dictionary with the use of dict():\n",
      "{1: 'Geeks', 2: 'For', 3: 'Geeks'}\n",
      "\n",
      " Dictionary with each item as a pair:\n",
      "{1: 'Geeks', 2: 'For'}\n",
      "\n",
      " Nested Dictionary\n",
      "{1: 'Geeks', 2: 'For', 3: {'A': 'Welcome', 'B': 'To', 'C': 'Geeks'}}\n"
     ]
    }
   ],
   "source": [
    "Dict = {}\n",
    "print(\"Empty Dictionary:\")\n",
    "print(Dict)\n",
    "Dict1 = dict({1:'Geeks',2:'For', 3:'Geeks'})\n",
    "print(\"\\n Dictionary with the use of dict():\")\n",
    "print(Dict1)\n",
    "Dict2 = dict([(1,'Geeks'),(2,'For')])\n",
    "print(\"\\n Dictionary with each item as a pair:\")\n",
    "print(Dict2)\n",
    "\n",
    "Dict3 = {1:'Geeks',2:'For',\n",
    "        3:{'A':'Welcome','B':'To','C':'Geeks'}}\n",
    "print(\"\\n Nested Dictionary\")\n",
    "print(Dict3)"
   ]
  },
  {
   "cell_type": "markdown",
   "id": "96804d7e",
   "metadata": {},
   "source": [
    "### Adding Element to a Dictionary"
   ]
  },
  {
   "cell_type": "code",
   "execution_count": 63,
   "id": "4867ef11",
   "metadata": {},
   "outputs": [
    {
     "name": "stdout",
     "output_type": "stream",
     "text": [
      "Empty Dictionary\n",
      "{}\n",
      "\n",
      " Dictionary after adding three elements\n",
      "{0: 'Coding', 1: 'Thinker', 2: 1}\n",
      "\n",
      " Dictionary after adding three more elements\n",
      "{0: 'Coding', 1: 'Thinker', 2: 1, 'Value_set': (2, 3, 4)}\n",
      "\n",
      " Updated Key Value: \n",
      "{0: 'Coding', 1: 'Thinker', 2: 'Welcome', 'Value_set': (2, 3, 4)}\n",
      "\n",
      " Adding a Nested Key:\n",
      "{0: 'Coding', 1: 'Thinker', 2: 'Welcome', 'Value_set': (2, 3, 4), 5: {'Address': {1: 'Indrapuri', 2: 'Branch'}}}\n"
     ]
    }
   ],
   "source": [
    "Dict = {}\n",
    "print(\"Empty Dictionary\")\n",
    "print(Dict)\n",
    "\n",
    "Dict[0] = 'Coding'\n",
    "Dict[1] = 'Thinker'\n",
    "Dict[2] = 1\n",
    "\n",
    "print(\"\\n Dictionary after adding three elements\")\n",
    "print(Dict)\n",
    "\n",
    "Dict['Value_set'] = 2,3,4\n",
    "print(\"\\n Dictionary after adding three more elements\")\n",
    "print(Dict)\n",
    "\n",
    "Dict[2] = 'Welcome'\n",
    "print(\"\\n Updated Key Value: \")\n",
    "print(Dict)\n",
    "\n",
    "Dict[5] = {'Address':{1:'Indrapuri', 2:'Branch'}}\n",
    "print(\"\\n Adding a Nested Key:\")\n",
    "print(Dict)"
   ]
  },
  {
   "cell_type": "markdown",
   "id": "5f9f1daa",
   "metadata": {},
   "source": [
    "### Accessing Elements of a Dictionary"
   ]
  },
  {
   "cell_type": "code",
   "execution_count": 44,
   "id": "ab68e9d8",
   "metadata": {},
   "outputs": [
    {
     "data": {
      "text/plain": [
       "{0: 'Coding',\n",
       " 1: 'Thinker',\n",
       " 2: 'Welcome',\n",
       " 'Value_set': (2, 3, 4),\n",
       " 5: {'Address': {1: 'Indrapuri', 2: 'Branch'}}}"
      ]
     },
     "execution_count": 44,
     "metadata": {},
     "output_type": "execute_result"
    }
   ],
   "source": [
    "Dict"
   ]
  },
  {
   "cell_type": "code",
   "execution_count": 45,
   "id": "fb10fe61",
   "metadata": {},
   "outputs": [
    {
     "data": {
      "text/plain": [
       "'Thinker'"
      ]
     },
     "execution_count": 45,
     "metadata": {},
     "output_type": "execute_result"
    }
   ],
   "source": [
    "Dict[1]"
   ]
  },
  {
   "cell_type": "code",
   "execution_count": 51,
   "id": "ad603aee",
   "metadata": {},
   "outputs": [
    {
     "data": {
      "text/plain": [
       "{'Address': {1: 'Indrapuri', 2: 'Branch'}}"
      ]
     },
     "execution_count": 51,
     "metadata": {},
     "output_type": "execute_result"
    }
   ],
   "source": [
    "Dict[5]"
   ]
  },
  {
   "cell_type": "code",
   "execution_count": 52,
   "id": "5e186b1a",
   "metadata": {},
   "outputs": [
    {
     "data": {
      "text/plain": [
       "{1: 'Indrapuri', 2: 'Branch'}"
      ]
     },
     "execution_count": 52,
     "metadata": {},
     "output_type": "execute_result"
    }
   ],
   "source": [
    "Dict[5]['Address']"
   ]
  },
  {
   "cell_type": "code",
   "execution_count": 53,
   "id": "f49a260a",
   "metadata": {},
   "outputs": [
    {
     "data": {
      "text/plain": [
       "'Branch'"
      ]
     },
     "execution_count": 53,
     "metadata": {},
     "output_type": "execute_result"
    }
   ],
   "source": [
    "Dict[5]['Address'][2]"
   ]
  },
  {
   "cell_type": "code",
   "execution_count": 54,
   "id": "513ae981",
   "metadata": {},
   "outputs": [
    {
     "data": {
      "text/plain": [
       "(2, 3, 4)"
      ]
     },
     "execution_count": 54,
     "metadata": {},
     "output_type": "execute_result"
    }
   ],
   "source": [
    "Dict['Value_set']"
   ]
  },
  {
   "cell_type": "markdown",
   "id": "17c64b77",
   "metadata": {},
   "source": [
    "#### Access value using get()"
   ]
  },
  {
   "cell_type": "code",
   "execution_count": 55,
   "id": "d4052bd1",
   "metadata": {},
   "outputs": [
    {
     "data": {
      "text/plain": [
       "{0: 'Coding',\n",
       " 1: 'Thinker',\n",
       " 2: 'Welcome',\n",
       " 'Value_set': (2, 3, 4),\n",
       " 5: {'Address': {1: 'Indrapuri', 2: 'Branch'}}}"
      ]
     },
     "execution_count": 55,
     "metadata": {},
     "output_type": "execute_result"
    }
   ],
   "source": [
    "Dict"
   ]
  },
  {
   "cell_type": "code",
   "execution_count": 56,
   "id": "035c01ab",
   "metadata": {},
   "outputs": [
    {
     "data": {
      "text/plain": [
       "'Coding'"
      ]
     },
     "execution_count": 56,
     "metadata": {},
     "output_type": "execute_result"
    }
   ],
   "source": [
    "Dict.get(0)"
   ]
  },
  {
   "cell_type": "code",
   "execution_count": 57,
   "id": "cf9971a5",
   "metadata": {},
   "outputs": [
    {
     "data": {
      "text/plain": [
       "'Thinker'"
      ]
     },
     "execution_count": 57,
     "metadata": {},
     "output_type": "execute_result"
    }
   ],
   "source": [
    "Dict.get(1)"
   ]
  },
  {
   "cell_type": "markdown",
   "id": "ae0672a1",
   "metadata": {},
   "source": [
    "### Deleting Elements using del keyword"
   ]
  },
  {
   "cell_type": "code",
   "execution_count": 64,
   "id": "926f2f57",
   "metadata": {},
   "outputs": [
    {
     "name": "stdout",
     "output_type": "stream",
     "text": [
      "{0: 'Coding', 1: 'Thinker', 2: 'Welcome', 'Value_set': (2, 3, 4), 5: {'Address': {1: 'Indrapuri', 2: 'Branch'}}}\n",
      "{1: 'Thinker', 2: 'Welcome', 'Value_set': (2, 3, 4), 5: {'Address': {1: 'Indrapuri', 2: 'Branch'}}}\n"
     ]
    }
   ],
   "source": [
    "print(Dict)\n",
    "\n",
    "del Dict[0]\n",
    "\n",
    "print(Dict)"
   ]
  },
  {
   "cell_type": "markdown",
   "id": "155df757",
   "metadata": {},
   "source": [
    "### Dictionary Methods"
   ]
  },
  {
   "cell_type": "markdown",
   "id": "d4da7cfc",
   "metadata": {},
   "source": [
    "#### copy(), keys(), items(), values(), clear() methods"
   ]
  },
  {
   "cell_type": "code",
   "execution_count": 65,
   "id": "3259e91b",
   "metadata": {},
   "outputs": [],
   "source": [
    "D1 = {0: 'Coding',\n",
    " 1: 'Thinker',\n",
    " 2: 'Welcome',\n",
    " 'Value_set': (2, 3, 4),\n",
    " 5: {'Address': {1: 'Indrapuri', 2: 'Branch'}}}"
   ]
  },
  {
   "cell_type": "code",
   "execution_count": 66,
   "id": "b290bdc8",
   "metadata": {},
   "outputs": [
    {
     "data": {
      "text/plain": [
       "dict"
      ]
     },
     "execution_count": 66,
     "metadata": {},
     "output_type": "execute_result"
    }
   ],
   "source": [
    "type(D1)"
   ]
  },
  {
   "cell_type": "code",
   "execution_count": 68,
   "id": "c4b682b5",
   "metadata": {},
   "outputs": [],
   "source": [
    "D2 = D1.copy()"
   ]
  },
  {
   "cell_type": "code",
   "execution_count": 69,
   "id": "96c221d3",
   "metadata": {},
   "outputs": [
    {
     "data": {
      "text/plain": [
       "{0: 'Coding',\n",
       " 1: 'Thinker',\n",
       " 2: 'Welcome',\n",
       " 'Value_set': (2, 3, 4),\n",
       " 5: {'Address': {1: 'Indrapuri', 2: 'Branch'}}}"
      ]
     },
     "execution_count": 69,
     "metadata": {},
     "output_type": "execute_result"
    }
   ],
   "source": [
    "D2"
   ]
  },
  {
   "cell_type": "code",
   "execution_count": 71,
   "id": "a1f4c55d",
   "metadata": {},
   "outputs": [
    {
     "name": "stdout",
     "output_type": "stream",
     "text": [
      "{0: 'Coding', 1: 'Thinker', 2: 'Welcome', 'Value_set': (2, 3, 4), 5: {'Address': {1: 'Indrapuri', 2: 'Branch'}}}\n"
     ]
    }
   ],
   "source": [
    "print(D2)"
   ]
  },
  {
   "cell_type": "code",
   "execution_count": 72,
   "id": "d8e02c43",
   "metadata": {},
   "outputs": [],
   "source": [
    "D2.clear()"
   ]
  },
  {
   "cell_type": "code",
   "execution_count": 73,
   "id": "9c3960cf",
   "metadata": {},
   "outputs": [
    {
     "name": "stdout",
     "output_type": "stream",
     "text": [
      "{}\n"
     ]
    }
   ],
   "source": [
    "print(D2)"
   ]
  },
  {
   "cell_type": "code",
   "execution_count": 74,
   "id": "ad47de20",
   "metadata": {},
   "outputs": [],
   "source": [
    "D2= D1.copy()"
   ]
  },
  {
   "cell_type": "code",
   "execution_count": 77,
   "id": "32093516",
   "metadata": {},
   "outputs": [
    {
     "data": {
      "text/plain": [
       "dict_keys([0, 1, 2, 'Value_set', 5])"
      ]
     },
     "execution_count": 77,
     "metadata": {},
     "output_type": "execute_result"
    }
   ],
   "source": [
    "D2.keys()"
   ]
  },
  {
   "cell_type": "code",
   "execution_count": 78,
   "id": "98eeea9b",
   "metadata": {},
   "outputs": [
    {
     "data": {
      "text/plain": [
       "dict_items([(0, 'Coding'), (1, 'Thinker'), (2, 'Welcome'), ('Value_set', (2, 3, 4)), (5, {'Address': {1: 'Indrapuri', 2: 'Branch'}})])"
      ]
     },
     "execution_count": 78,
     "metadata": {},
     "output_type": "execute_result"
    }
   ],
   "source": [
    "D2.items()"
   ]
  },
  {
   "cell_type": "code",
   "execution_count": 79,
   "id": "a62ca3df",
   "metadata": {},
   "outputs": [
    {
     "data": {
      "text/plain": [
       "dict_values(['Coding', 'Thinker', 'Welcome', (2, 3, 4), {'Address': {1: 'Indrapuri', 2: 'Branch'}}])"
      ]
     },
     "execution_count": 79,
     "metadata": {},
     "output_type": "execute_result"
    }
   ],
   "source": [
    "D2.values()"
   ]
  },
  {
   "cell_type": "markdown",
   "id": "dc641f91",
   "metadata": {},
   "source": [
    "#### fromkeys() method"
   ]
  },
  {
   "cell_type": "code",
   "execution_count": 83,
   "id": "7a98eae8",
   "metadata": {},
   "outputs": [
    {
     "name": "stdout",
     "output_type": "stream",
     "text": [
      "{'a': None, 'b': None, 'c': None}\n"
     ]
    }
   ],
   "source": [
    "d = {}\n",
    "seq = ('a','b','c')\n",
    "print(d.fromkeys(seq,None))"
   ]
  },
  {
   "cell_type": "code",
   "execution_count": 85,
   "id": "95125dde",
   "metadata": {},
   "outputs": [
    {
     "name": "stdout",
     "output_type": "stream",
     "text": [
      "{'a': None, 'b': None, 'c': None, 'd': None, 'e': None}\n",
      "{'a': 1, 'b': 1, 'c': 1, 'd': 1, 'e': 1}\n"
     ]
    }
   ],
   "source": [
    "seq = ('a','b','c','d','e')\n",
    "# creating dict with default values as None\n",
    "print(d.fromkeys(seq))\n",
    "\n",
    "# creating dict with default values as 1\n",
    "print(d.fromkeys(seq,1))"
   ]
  },
  {
   "cell_type": "code",
   "execution_count": 87,
   "id": "f5a77994",
   "metadata": {},
   "outputs": [
    {
     "name": "stdout",
     "output_type": "stream",
     "text": [
      "{0: [], 1: [], 2: [], 3: []}\n"
     ]
    }
   ],
   "source": [
    "# Python3 code to demonstrate \n",
    "# to initialize dictionary with list \n",
    "# using fromkeys()\n",
    "   \n",
    "# using fromkeys() to construct\n",
    "print(dict.fromkeys(range(4), []))"
   ]
  },
  {
   "cell_type": "markdown",
   "id": "f591f3bd",
   "metadata": {},
   "source": [
    "#### update(), pop(), popitem(), setdefault() method"
   ]
  },
  {
   "cell_type": "code",
   "execution_count": 88,
   "id": "01a27bc4",
   "metadata": {},
   "outputs": [],
   "source": [
    "# Update with another Dictionary"
   ]
  },
  {
   "cell_type": "code",
   "execution_count": 93,
   "id": "3f962520",
   "metadata": {},
   "outputs": [
    {
     "name": "stdout",
     "output_type": "stream",
     "text": [
      "Original Dictionary: \n",
      "{'A': 'Coding', 'B': 'Thought'}\n",
      "{'A': 'Coding', 'B': 'Thinker'}\n"
     ]
    }
   ],
   "source": [
    "# Python program to show working\n",
    "# of update() method in Dictionary\n",
    " \n",
    "# Dictionary with three items\n",
    "D1 = {'A': 'Coding', 'B': 'Thought' }\n",
    "D2 = {'B': 'Thinker'}\n",
    " \n",
    "# Dictionary before Updation\n",
    "print(\"Original Dictionary: \")\n",
    "print(D1)\n",
    "\n",
    "# update the value of key 'B'\n",
    "D1.update(D2)\n",
    "print(D1)"
   ]
  },
  {
   "cell_type": "code",
   "execution_count": 92,
   "id": "59d57eb7",
   "metadata": {},
   "outputs": [],
   "source": [
    "# Update with an Iterable"
   ]
  },
  {
   "cell_type": "code",
   "execution_count": 94,
   "id": "1d7eafd7",
   "metadata": {},
   "outputs": [
    {
     "name": "stdout",
     "output_type": "stream",
     "text": [
      "Original Dictionary: \n",
      "{'A': 'Coding'}\n",
      "{'A': 'Coding', 'B': 'Thinker', 'C': 'Indrapuri'}\n"
     ]
    }
   ],
   "source": [
    "# Python program to show working\n",
    "# of update() method in Dictionary\n",
    " \n",
    "# Dictionary with three items\n",
    "D1 = {'A': 'Coding'}\n",
    "D2 = {'B': 'Thinker', 'C':'Indrapuri'}\n",
    " \n",
    "# Dictionary before Updation\n",
    "print(\"Original Dictionary: \")\n",
    "print(D1)\n",
    "\n",
    "# update the value of key 'B'\n",
    "D1.update(D2)\n",
    "print(D1)"
   ]
  },
  {
   "cell_type": "code",
   "execution_count": 100,
   "id": "7a1eaa85",
   "metadata": {},
   "outputs": [
    {
     "name": "stdout",
     "output_type": "stream",
     "text": [
      "Dictionary\n",
      "{'A': 'Coding', 'B': 'Thinker', 'C': 'Indrapuri'}\n",
      "\n",
      "Dictionary after deletion of last pair\n",
      "{'A': 'Coding', 'B': 'Thinker'}\n",
      "\n",
      "Deleted pair\n",
      "('C', 'Indrapuri')\n"
     ]
    }
   ],
   "source": [
    "D4 = {'A': 'Coding', 'B': 'Thinker', 'C': 'Indrapuri'}\n",
    "print(\"Dictionary\")\n",
    "print(D4)\n",
    "D5 = D4.popitem()\n",
    "print(\"\\nDictionary after deletion of last pair\")\n",
    "print(D4)\n",
    "print(\"\\nDeleted pair\")\n",
    "print(D5)"
   ]
  },
  {
   "cell_type": "code",
   "execution_count": 102,
   "id": "1591ac05",
   "metadata": {},
   "outputs": [
    {
     "name": "stdout",
     "output_type": "stream",
     "text": [
      "Dictionary\n",
      "{'A': 'Coding', 'B': 'Thinker', 'C': 'Indrapuri'}\n",
      "\n",
      "Dictionary after deletion of last pair\n",
      "{'A': 'Coding', 'C': 'Indrapuri'}\n",
      "\n",
      "Deleted pair\n",
      "Thinker\n"
     ]
    }
   ],
   "source": [
    "D4 = {'A': 'Coding', 'B': 'Thinker', 'C': 'Indrapuri'}\n",
    "print(\"Dictionary\")\n",
    "print(D4)\n",
    "D5 = D4.pop('B')\n",
    "print(\"\\nDictionary after deletion of last pair\")\n",
    "print(D4)\n",
    "print(\"\\nDeleted pair\")\n",
    "print(D5)"
   ]
  },
  {
   "cell_type": "code",
   "execution_count": 117,
   "id": "8d5ac17c",
   "metadata": {},
   "outputs": [
    {
     "name": "stdout",
     "output_type": "stream",
     "text": [
      "Dictionary\n",
      "{'A': 'Coding', 'B': 'Thinker', 'C': 'Indrapuri'}\n",
      "True\n",
      "{'A': 'Coding', 'B': 'Thinker', 'C': 'Indrapuri', 'L': None}\n"
     ]
    }
   ],
   "source": [
    "D4 = {'A': 'Coding', 'B': 'Thinker', 'C': 'Indrapuri'}\n",
    "print(\"Dictionary\")\n",
    "print(D4)\n",
    "print('A' in D4)\n",
    "D4.setdefault('L')\n",
    "print(D4)\n"
   ]
  },
  {
   "cell_type": "code",
   "execution_count": 118,
   "id": "4340c558",
   "metadata": {},
   "outputs": [
    {
     "data": {
      "text/plain": [
       "4"
      ]
     },
     "execution_count": 118,
     "metadata": {},
     "output_type": "execute_result"
    }
   ],
   "source": [
    "len(D4)"
   ]
  },
  {
   "cell_type": "markdown",
   "id": "c353521f",
   "metadata": {},
   "source": [
    "#### len() method"
   ]
  },
  {
   "cell_type": "code",
   "execution_count": 123,
   "id": "5ff07df6",
   "metadata": {},
   "outputs": [
    {
     "name": "stdout",
     "output_type": "stream",
     "text": [
      "Dictionary: {'Name': 'Rohit', 'Age': 30, 'Designation': 'Data Scientist'}\n",
      "Length of dictionary: 3\n"
     ]
    }
   ],
   "source": [
    "dict1 ={'Name':'Rohit', 'Age':30, 'Designation':'Data Scientist'}\n",
    " \n",
    "print(\"Dictionary:\", dict1)\n",
    "print(\"Length of dictionary:\", len(dict1))"
   ]
  },
  {
   "cell_type": "code",
   "execution_count": 125,
   "id": "d07b51de",
   "metadata": {},
   "outputs": [
    {
     "name": "stdout",
     "output_type": "stream",
     "text": [
      "len() method : 4\n",
      "len() method with keys() : 4\n",
      "len() method with values(): 4\n",
      "len() method with keys() : 3\n",
      "len() method with keys() : 3\n"
     ]
    }
   ],
   "source": [
    "# A nested dictionary\n",
    "dict2 = {  # outer dictionary\n",
    "    'Name': 'Rohit',\n",
    "    'Age': 30,\n",
    "    'Designation': 'Data Scientist',\n",
    "    'address': {  # inner dictionary\n",
    "           'Street': 'Indrapuri',\n",
    "           'City': 'Bhopal',\n",
    "           'Country': 'India'\n",
    "    }\n",
    "}\n",
    "print(\"len() method :\", len(dict2))\n",
    "print(\"len() method with keys() :\", len(dict2.keys()))\n",
    "print(\"len() method with values():\", len(dict2.values()))\n",
    "print(\"len() method with keys() :\", len(dict2['address'].keys()))\n",
    "print(\"len() method with keys() :\", len(dict2['address'].values()))"
   ]
  },
  {
   "cell_type": "code",
   "execution_count": 127,
   "id": "521ecdad",
   "metadata": {},
   "outputs": [
    {
     "name": "stdout",
     "output_type": "stream",
     "text": [
      "len() method : 4\n",
      "Total length :  7\n"
     ]
    }
   ],
   "source": [
    "# A nested dictionary\n",
    "dict2 = {  # outer dictionary\n",
    "    'Name': 'Rohit',\n",
    "    'Age': 30,\n",
    "    'Designation': 'Data Scientist',\n",
    "    'address': {  # inner dictionary\n",
    "           'Street': 'Indrapuri',\n",
    "           'City': 'Bhopal',\n",
    "           'Country': 'India'\n",
    "    }\n",
    "}\n",
    "print(\"len() method :\", len(dict2))\n",
    "print(\"Total length : \", len(dict2)+len(dict2['address']))"
   ]
  },
  {
   "cell_type": "code",
   "execution_count": null,
   "id": "077bb7b6",
   "metadata": {},
   "outputs": [],
   "source": []
  }
 ],
 "metadata": {
  "kernelspec": {
   "display_name": "Python 3 (ipykernel)",
   "language": "python",
   "name": "python3"
  },
  "language_info": {
   "codemirror_mode": {
    "name": "ipython",
    "version": 3
   },
   "file_extension": ".py",
   "mimetype": "text/x-python",
   "name": "python",
   "nbconvert_exporter": "python",
   "pygments_lexer": "ipython3",
   "version": "3.11.7"
  }
 },
 "nbformat": 4,
 "nbformat_minor": 5
}
